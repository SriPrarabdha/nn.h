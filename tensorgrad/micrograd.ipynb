{
 "cells": [
  {
   "cell_type": "code",
   "execution_count": 1,
   "metadata": {},
   "outputs": [
    {
     "name": "stderr",
     "output_type": "stream",
     "text": [
      "UsageError: Line magic function `%matplotlib.inline` not found.\n"
     ]
    }
   ],
   "source": [
    "import math\n",
    "import numpy as np\n",
    "import matplotlib.pyplot as plt\n",
    "%matplotlib.inline"
   ]
  },
  {
   "cell_type": "code",
   "execution_count": 8,
   "metadata": {},
   "outputs": [],
   "source": [
    "def f(x):\n",
    "    return 3*x**2 - 4*x + 8"
   ]
  },
  {
   "cell_type": "code",
   "execution_count": 10,
   "metadata": {},
   "outputs": [
    {
     "data": {
      "text/plain": [
       "[<matplotlib.lines.Line2D at 0x26e8937a410>]"
      ]
     },
     "execution_count": 10,
     "metadata": {},
     "output_type": "execute_result"
    },
    {
     "data": {
      "image/png": "[encoded data removed]",
      "text/plain": [
       "<Figure size 432x288 with 1 Axes>"
      ]
     },
     "metadata": {
      "needs_background": "light"
     },
     "output_type": "display_data"
    }
   ],
   "source": [
    "xs = np.arange(-5 , 5 , 0.25)\n",
    "ys = f(xs)\n",
    "plt.plot(xs , ys)"
   ]
  },
  {
   "cell_type": "code",
   "execution_count": 18,
   "metadata": {},
   "outputs": [
    {
     "data": {
      "text/plain": [
       "[<matplotlib.lines.Line2D at 0x26e8b6f95a0>]"
      ]
     },
     "execution_count": 18,
     "metadata": {},
     "output_type": "execute_result"
    },
    {
     "data": {
      "image/png": "[encoded data removed]",
      "text/plain": [
       "<Figure size 432x288 with 1 Axes>"
      ]
     },
     "metadata": {
      "needs_background": "light"
     },
     "output_type": "display_data"
    }
   ],
   "source": [
    "h = 0.0000001\n",
    "d = ( f(np.add(xs,h)) - f(xs) )/h\n",
    "plt.plot(xs, d)"
   ]
  },
  {
   "cell_type": "code",
   "execution_count": 22,
   "metadata": {},
   "outputs": [
    {
     "data": {
      "text/plain": [
       "array([-1.71106876e-07, -8.20546120e-08, -1.35110895e-07, -1.88167178e-07,\n",
       "       -3.83332008e-07, -2.94279744e-07, -3.47336027e-07, -4.00392310e-07,\n",
       "       -3.11340045e-07, -3.64396328e-07, -3.46398338e-07, -3.28400347e-07,\n",
       "       -3.10402356e-07, -2.92404366e-07, -2.74406375e-07, -2.91935521e-07,\n",
       "       -3.09464667e-07, -3.09230245e-07, -3.08995823e-07, -2.90997832e-07,\n",
       "       -2.99645194e-07, -2.99410772e-07, -2.99176349e-07, -2.98941927e-07,\n",
       "       -2.98707505e-07, -3.07354867e-07, -3.07120445e-07, -2.89122454e-07,\n",
       "       -2.88888032e-07, -3.06417178e-07, -2.70655619e-07, -2.52657628e-07,\n",
       "       -3.05713911e-07, -2.87715920e-07, -2.69717930e-07, -2.51719939e-07,\n",
       "       -3.75830496e-07, -4.28886779e-07, -3.39834514e-07, -2.50782250e-07])"
      ]
     },
     "execution_count": 22,
     "metadata": {},
     "output_type": "execute_result"
    }
   ],
   "source": [
    "def diff(x):\n",
    "    return 6*x - 4\n",
    "diff_ys = diff(xs)\n",
    "diff_ys = diff_ys - d\n",
    "diff_ys"
   ]
  },
  {
   "cell_type": "code",
   "execution_count": 25,
   "metadata": {},
   "outputs": [
    {
     "name": "stdout",
     "output_type": "stream",
     "text": [
      "-2.999999981767587 1.999999987845058 0.999999993922529\n"
     ]
    }
   ],
   "source": [
    "a = 2.0\n",
    "b = -3.0\n",
    "c = 10.0\n",
    "d= a*b + c\n",
    "\n",
    "h=0.00000001\n",
    "d_a = (((a+h)*b + c) - (a*b + c))/h\n",
    "d_b = ((a*(b+h) + c) - (a*b + c))/h\n",
    "d_c = ((a*b + c+h) - (a*b + c))/h\n",
    "\n",
    "print(d_a , d_b , d_c)"
   ]
  },
  {
   "cell_type": "code",
   "execution_count": 31,
   "metadata": {},
   "outputs": [],
   "source": [
    "class Value:\n",
    "    def __init__(self , data , _children=() , _op=''):\n",
    "        self.data = data\n",
    "        self._prev = set(_children)\n",
    "        self._op = _op\n",
    "    \n",
    "    def __repr__(self):\n",
    "        return f\"Value(data={self.data})\"\n",
    "    \n",
    "    def __add__(self , other):\n",
    "        out = Value(self.data + other.data , (self , other) , '+')\n",
    "        return out\n",
    "    \n",
    "    def __mul__(self , other):\n",
    "        out = Value(self.data * other.data , (self , other) , '*')\n",
    "        return out"
   ]
  },
  {
   "cell_type": "code",
   "execution_count": 33,
   "metadata": {},
   "outputs": [
    {
     "data": {
      "text/plain": [
       "'+'"
      ]
     },
     "execution_count": 33,
     "metadata": {},
     "output_type": "execute_result"
    }
   ],
   "source": [
    "a = Value(2.0)\n",
    "b = Value(-3.0)\n",
    "c= Value(10.0)\n",
    "\n",
    "d = a*b+c\n",
    "d._op"
   ]
  },
  {
   "cell_type": "code",
   "execution_count": null,
   "metadata": {},
   "outputs": [],
   "source": [
    "from graphviz import Digraph\n",
    "\n",
    "def trace(root):\n",
    "    nodes , edges = set() , set()\n",
    "    def build(v):\n",
    "        if v not in nodes:\n",
    "            nodes.add(v)\n",
    "            for child in v._prev:\n",
    "                edges.add((child , v))\n",
    "                build(child)\n",
    "    build(root)\n",
    "    return nodes , edges\n",
    "\n",
    "def draw_dot(root):\n",
    "    dot = Digraph(format='svg' , graph_attr={'rankdir':'LR'})\n",
    "\n",
    "    nodes , edges = trace(root)\n",
    "\n",
    "    for n in nodes:\n",
    "        uid = str(id(n))\n",
    "        dot"
   ]
  }
 ],
 "metadata": {
  "kernelspec": {
   "display_name": "env",
   "language": "python",
   "name": "env"
  },
  "language_info": {
   "codemirror_mode": {
    "name": "ipython",
    "version": 3
   },
   "file_extension": ".py",
   "mimetype": "text/x-python",
   "name": "python",
   "nbconvert_exporter": "python",
   "pygments_lexer": "ipython3",
   "version": "3.10.2"
  },
  "orig_nbformat": 4
 },
 "nbformat": 4,
 "nbformat_minor": 2
}
