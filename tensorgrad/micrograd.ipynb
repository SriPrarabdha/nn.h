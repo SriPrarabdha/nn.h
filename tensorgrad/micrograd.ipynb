{
 "cells": [
  {
   "cell_type": "code",
   "execution_count": null,
   "metadata": {},
   "outputs": [],
   "source": [
    "import math\n",
    "import numpy as np\n",
    "import matplotlib.pyplot as plt\n",
    "%matplotlib.inline"
   ]
  },
  {
   "cell_type": "code",
   "execution_count": null,
   "metadata": {},
   "outputs": [],
   "source": [
    "def f(x):\n",
    "    return 3*x**2 - 4*x + 8"
   ]
  },
  {
   "cell_type": "code",
   "execution_count": null,
   "metadata": {},
   "outputs": [],
   "source": [
    "xs = np.arange(-5 , 5 , 0.25)\n",
    "ys = f(xs)\n",
    "plt.plot(xs , ys)"
   ]
  },
  {
   "cell_type": "code",
   "execution_count": null,
   "metadata": {},
   "outputs": [],
   "source": [
    "h = 0.0000001\n",
    "d = ( f(np.add(xs,h)) - f(xs) )/h\n",
    "plt.plot(xs, d)"
   ]
  },
  {
   "cell_type": "code",
   "execution_count": null,
   "metadata": {},
   "outputs": [],
   "source": [
    "def diff(x):\n",
    "    return 6*x - 4\n",
    "diff_ys = diff(xs)\n",
    "diff_ys = diff_ys - d\n",
    "diff_ys"
   ]
  },
  {
   "cell_type": "code",
   "execution_count": null,
   "metadata": {},
   "outputs": [],
   "source": [
    "a = 2.0\n",
    "b = -3.0\n",
    "c = 10.0\n",
    "d= a*b + c\n",
    "\n",
    "h=0.00000001\n",
    "d_a = (((a+h)*b + c) - (a*b + c))/h\n",
    "d_b = ((a*(b+h) + c) - (a*b + c))/h\n",
    "d_c = ((a*b + c+h) - (a*b + c))/h\n",
    "\n",
    "print(d_a , d_b , d_c)"
   ]
  },
  {
   "cell_type": "code",
   "execution_count": null,
   "metadata": {},
   "outputs": [],
   "source": [
    "class Value:\n",
    "    def __init__(self , data , _children=() , _op='' , label=''):\n",
    "        self.data = data\n",
    "        self._prev = set(_children)\n",
    "        self._op = _op\n",
    "        self.label = label\n",
    "    \n",
    "    def __repr__(self):\n",
    "        return f\"Value(data={self.data})\"\n",
    "    \n",
    "    def __add__(self , other):\n",
    "        out = Value(self.data + other.data , (self , other) , '+')\n",
    "        return out\n",
    "    \n",
    "    def __mul__(self , other):\n",
    "        out = Value(self.data * other.data , (self , other) , '*')\n",
    "        return out"
   ]
  },
  {
   "cell_type": "code",
   "execution_count": null,
   "metadata": {},
   "outputs": [],
   "source": [
    "a = Value(2.0 , label='a')\n",
    "b = Value(-3.0 , label='b')\n",
    "c= Value(10.0 , label='c')\n",
    "\n",
    "d = a*b+c\n",
    "d._op;d.label='d'"
   ]
  },
  {
   "cell_type": "code",
   "execution_count": null,
   "metadata": {},
   "outputs": [],
   "source": [
    "from graphviz import Digraph\n",
    "\n",
    "def trace(root):\n",
    "    nodes , edges = set() , set()\n",
    "    def build(v):\n",
    "        if v not in nodes:\n",
    "            nodes.add(v)\n",
    "            for child in v._prev:\n",
    "                edges.add((child , v))\n",
    "                build(child)\n",
    "    build(root)\n",
    "    return nodes , edges\n",
    "\n",
    "def draw_dot(root):\n",
    "    dot = Digraph(format='svg' , graph_attr={'rankdir':'LR'})\n",
    "\n",
    "    nodes , edges = trace(root)\n",
    "\n",
    "    for n in nodes:\n",
    "        uid = str(id(n))\n",
    "        dot.node(name = uid , label=\"{ %s | data %.4f }\" % (n.label , n.data ) , shape = 'record')\n",
    "\n",
    "        if(n._op):\n",
    "            dot.node(name= uid+n._op , label=n._op)\n",
    "            dot.edge(uid + n._op , uid)\n",
    "    \n",
    "    for n1, n2 in edges:\n",
    "        dot.edge(str(id(n1)) , str(id(n2))  + n2._op)\n",
    "\n",
    "    return dot"
   ]
  },
  {
   "cell_type": "code",
   "execution_count": null,
   "metadata": {},
   "outputs": [],
   "source": [
    "draw_dot(d)"
   ]
  },
  {
   "cell_type": "code",
   "execution_count": null,
   "metadata": {},
   "outputs": [],
   "source": [
    "print(for())"
   ]
  }
 ],
 "metadata": {
  "kernelspec": {
   "display_name": "env",
   "language": "python",
   "name": "env"
  },
  "language_info": {
   "codemirror_mode": {
    "name": "ipython",
    "version": 3
   },
   "file_extension": ".py",
   "mimetype": "text/x-python",
   "name": "python",
   "nbconvert_exporter": "python",
   "pygments_lexer": "ipython3",
   "version": "3.10.2"
  },
  "orig_nbformat": 4
 },
 "nbformat": 4,
 "nbformat_minor": 2
}
