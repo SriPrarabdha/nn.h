{
 "cells": [
  {
   "cell_type": "markdown",
   "metadata": {},
   "source": []
  },
  {
   "cell_type": "code",
   "execution_count": null,
   "metadata": {},
   "outputs": [],
   "source": [
    "import numpy as np\n",
    "import os"
   ]
  },
  {
   "cell_type": "code",
   "execution_count": null,
   "metadata": {},
   "outputs": [],
   "source": [
    "def fetch(url):\n",
    "    import requests, gzip, os, hashlib, pathlib, numpy\n",
    "    \n",
    "    # fp = pathlib.Path.joinpath(\"/tmp\" , hashlib.md5(url.encode('utf-8')).hexdigest() )\n",
    "    fp = \"C:/Users/Prarabdha/Desktop/TensorLabs.ai/tmp/\" + hashlib.md5(url.encode('utf-8')).hexdigest()\n",
    "    \n",
    "\n",
    "    if os.path.isfile(fp):\n",
    "        with open(fp , \"rb\") as f:\n",
    "            data = f.read()\n",
    "    else:\n",
    "        with open(fp , \"wb\") as f:\n",
    "            data = requests.get(url).content\n",
    "            f.write(data) \n",
    "    return numpy.frombuffer(gzip.decompress(data) , dtype=np.uint8).copy()\n",
    "\n",
    "X_train = fetch('http://yann.lecun.com/exdb/mnist/train-images-idx3-ubyte.gz')[0x10:].reshape((-1 , 28 , 28))\n",
    "Y_train = fetch('http://yann.lecun.com/exdb/mnist/train-labels-idx1-ubyte.gz')[8:]\n",
    "X_test = fetch('http://yann.lecun.com/exdb/mnist/t10k-images-idx3-ubyte.gz')[0x10:].reshape((-1 , 28 , 28))\n",
    "Y_test = fetch('http://yann.lecun.com/exdb/mnist/t10k-labels-idx1-ubyte.gz')[8:]"
   ]
  },
  {
   "cell_type": "code",
   "execution_count": null,
   "metadata": {},
   "outputs": [],
   "source": [
    "import torch\n",
    "import torch.nn as nn\n",
    "class PopNet(torch.nn.Module):\n",
    "    def __init__(self):\n",
    "        super(PopNet , self).__init__()\n",
    "        self.l1 = nn.Linear(784 , 128)\n",
    "        self.act = nn.ReLU()\n",
    "        self.l2 = nn.Linear(128 , 10)\n",
    "\n",
    "    def forward(self , x):\n",
    "        x = self.l1(x)\n",
    "        x = self.act(x)\n",
    "        x = self.l2(x)\n",
    "        return x\n",
    "    \n",
    "model = PopNet()\n",
    "model(torch.tensor(X_train[0:10].reshape((-1 , 28*28)) , dtype=torch.uint8).float())"
   ]
  },
  {
   "cell_type": "code",
   "execution_count": null,
   "metadata": {},
   "outputs": [],
   "source": [
    "from tqdm import tqdm\n",
    "batch_size = 32\n",
    "loss_function = nn.CrossEntropyLoss()\n",
    "optim = torch.optim.Adam(model.parameters())\n",
    "losses , accuracies = [] , []\n",
    "for i in tqdm(range(1000)):\n",
    "    samp = np.random.randint(0 , X_train.shape[0] , size = (batch_size))\n",
    "    X = torch.tensor(X_train[samp].reshape((-1 , 28*28)) , dtype=torch.uint8).float()\n",
    "    Y = torch.tensor(Y_train[samp] , dtype=torch.uint8).long()\n",
    "\n",
    "    optim.zero_grad()\n",
    "    out = model(X)\n",
    "    cat = torch.argmax(out , dim=1)\n",
    "    accuracy = (cat == Y).float().mean()\n",
    "\n",
    "    loss = loss_function(out , Y)\n",
    "    loss.backward()\n",
    "    optim.step()\n",
    "    loss , accuracy = loss.item() , accuracy.item()\n",
    "    losses.append(loss)\n",
    "    accuracies.append(accuracy)\n",
    "print(loss , accuracy)"
   ]
  },
  {
   "cell_type": "code",
   "execution_count": null,
   "metadata": {},
   "outputs": [],
   "source": [
    "import matplotlib.pyplot as plt\n",
    "\n",
    "# a = plt.subplot((1,2))\n",
    "plt.plot(losses)\n",
    "plt.plot(accuracies)"
   ]
  },
  {
   "cell_type": "code",
   "execution_count": null,
   "metadata": {},
   "outputs": [],
   "source": [
    "for i in tqdm(range(X_test.shape[0])):\n",
    "\n",
    "    x = torch.tensor(X_test[i].reshape((-1 , 28*28)) , dtype=torch.uint8).float()\n",
    "    y = torch.tensor(Y_test[i] , dtype=torch.uint8).long()\n",
    "    out = model(x)\n",
    "    cat = torch.argmax(out , dim=1)\n",
    "    test_accuracy = (out == y).float().mean()\n",
    "\n",
    "print(test_accuracy)"
   ]
  },
  {
   "cell_type": "code",
   "execution_count": null,
   "metadata": {},
   "outputs": [],
   "source": [
    "l1 = np.zeros((28*28 , 128) , dtype=np.float32)\n",
    "l2 = np.zeros((128 , 10) , dtype=np.float32)"
   ]
  },
  {
   "cell_type": "code",
   "execution_count": null,
   "metadata": {},
   "outputs": [],
   "source": [
    "import numpy\n",
    "l1[ : ] = model.l1.weight.detach().numpy().transpose()\n",
    "l2[:] = model.l2.weight.detach().numpy().transpose()"
   ]
  },
  {
   "cell_type": "code",
   "execution_count": null,
   "metadata": {},
   "outputs": [],
   "source": [
    "def forward(x):\n",
    "    x = x.dot(l1)\n",
    "    x = np.maximum(x , 0)\n",
    "    x = x.dot(l2)\n",
    "    return x\n",
    "\n",
    "print(forward(X_test.reshape((-1 , 28*28))))"
   ]
  },
  {
   "cell_type": "code",
   "execution_count": null,
   "metadata": {},
   "outputs": [],
   "source": [
    "Y_test_preds_out = forward(X_test.reshape((-1 , 28*28)))\n",
    "Y_test_preds = np.argmax(Y_test_preds_out , axis=1)\n",
    "(Y_test_preds == Y_test).mean()"
   ]
  },
  {
   "cell_type": "code",
   "execution_count": null,
   "metadata": {},
   "outputs": [],
   "source": [
    "ret = -Y_test_preds_out[range(Y_test_preds_out.shape[0]) , Y_test] + np.log(np.exp(Y_test_preds_out).sum(axis=1))"
   ]
  },
  {
   "cell_type": "code",
   "execution_count": null,
   "metadata": {},
   "outputs": [],
   "source": [
    "\n",
    "G=32\n",
    "grid = sorted(list(zip(ret , range(ret.shape[0]))) , reverse=False)[0:G*G]\n",
    "x_bad = X_test[[x[1] for x in grid]]\n",
    "plt.figure(figsize=(12,12))\n",
    "plt.imshow(np.concatenate(x_bad.reshape((G , 28*G , 28)) , axis=1))"
   ]
  },
  {
   "cell_type": "code",
   "execution_count": null,
   "metadata": {},
   "outputs": [],
   "source": [
    "samp = [0,1]\n",
    "\n",
    "out = np.zeros((len(samp),10) , np.float32)\n",
    "out[range(out.shape[0]) , Y_test[samp]] = 1\n",
    "\n",
    "def logsumexp(x):\n",
    "    c = x.max(axis=1)\n",
    "    return c+np.log(np.exp(x-c.reshape((-1,1))).sum(axis=1))\n",
    "\n",
    "def forward_backward(x,y):\n",
    "    out = np.zeros((len(y),10) , np.float32)\n",
    "    out[range(out.shape[0]) , y] = 1\n",
    "    #forward pass\n",
    "    # x = X_test[samp].reshape((-1 , 28*28))\n",
    "    x_l1 = x.dot(l1)\n",
    "    x_relu = np.maximum(x_l1 , 0)\n",
    "    x_l2 = x_relu.dot(l2)\n",
    "    x_lsm = x_l2 - np.log(np.exp(x_l2).sum(axis=1)).reshape((-1,1))\n",
    "    x_loss = (-out * x_lsm).mean(axis=1)\n",
    "\n",
    "    #backward pass\n",
    "\n",
    "    d_out = -out/len(y)\n",
    "\n",
    "    dx_lsm = d_out - np.exp(x_lsm)*d_out.sum(axis=1).reshape((-1,1))\n",
    "\n",
    "    d_l2 = x_relu.T.dot(dx_lsm)\n",
    "    dx_relu = dx_lsm.dot(l2.T)\n",
    "\n",
    "    dx_l1 = (x_relu > 0).astype(np.float32) * dx_relu\n",
    "\n",
    "    d_l1 = x.T.dot(dx_l1)\n",
    "\n",
    "    # plt.imshow(d_l1.T)\n",
    "    # plt.figure(figsize=(12,12))\n",
    "    # plt.imshow(d_l2.T)\n",
    "    return x_loss , x_l2 , d_l1 , d_l2\n",
    "\n",
    "samp= range(32)\n",
    "forward_backward(X_test[samp].reshape((-1 , 28*28)) , Y_test[samp])\n"
   ]
  },
  {
   "cell_type": "code",
   "execution_count": null,
   "metadata": {},
   "outputs": [],
   "source": [
    "#numpyb training\n",
    "\n",
    "def kaiming(m,h):\n",
    "    ret = np.random.uniform(-1./np.sqrt(m*h) , 1./np.sqrt(m*h) , size = (m,h))\n",
    "    return ret.astype(np.float32)\n",
    "\n",
    "#init\n",
    "lr = 0.001\n",
    "l1 = kaiming(*l1.shape)\n",
    "l2 = kaiming(*l2.shape)\n",
    "\n",
    "BS = 128\n",
    "losses , accuracies = [] , []\n",
    "for i in tqdm(range(1000)):\n",
    "    samp = np.random.randint(0 , X_train.shape[0] , size=(BS))\n",
    "    X = X_train[samp].reshape((-1 , 28*28))\n",
    "    Y = Y_train[samp] \n",
    "    x_loss , x_l2 , d_l1 , d_l2 = forward_backward(X,Y)\n",
    "\n",
    "    l1 = l1 - lr*d_l1\n",
    "    l2 = l2 - lr*d_l2\n",
    "    cat = np.argmax(x_l2 , axis=1)\n",
    "    accuracy = (cat==Y).mean()\n",
    "\n",
    "    loss = x_loss.mean()\n",
    "    losses.append(loss)\n",
    "    accuracies.append(accuracy)\n",
    "\n",
    "print(loss , accuracy)\n",
    "plt.plot(losses)\n",
    "plt.plot(accuracies)"
   ]
  },
  {
   "cell_type": "code",
   "execution_count": null,
   "metadata": {},
   "outputs": [],
   "source": []
  }
 ],
 "metadata": {
  "kernelspec": {
   "display_name": "env",
   "language": "python",
   "name": "env"
  },
  "language_info": {
   "codemirror_mode": {
    "name": "ipython",
    "version": 3
   },
   "file_extension": ".py",
   "mimetype": "text/x-python",
   "name": "python",
   "nbconvert_exporter": "python",
   "pygments_lexer": "ipython3",
   "version": "3.10.2"
  },
  "orig_nbformat": 4
 },
 "nbformat": 4,
 "nbformat_minor": 2
}
